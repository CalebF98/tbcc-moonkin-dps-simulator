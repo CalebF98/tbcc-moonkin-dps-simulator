{
 "cells": [
  {
   "cell_type": "code",
   "execution_count": 25,
   "metadata": {},
   "outputs": [
    {
     "data": {
      "text/html": [
       "<div>\n",
       "<style scoped>\n",
       "    .dataframe tbody tr th:only-of-type {\n",
       "        vertical-align: middle;\n",
       "    }\n",
       "\n",
       "    .dataframe tbody tr th {\n",
       "        vertical-align: top;\n",
       "    }\n",
       "\n",
       "    .dataframe thead th {\n",
       "        text-align: right;\n",
       "    }\n",
       "</style>\n",
       "<table border=\"1\" class=\"dataframe\">\n",
       "  <thead>\n",
       "    <tr style=\"text-align: right;\">\n",
       "      <th></th>\n",
       "      <th>id</th>\n",
       "      <th>intel</th>\n",
       "      <th>crit</th>\n",
       "      <th>hit</th>\n",
       "      <th>sp</th>\n",
       "      <th>haste</th>\n",
       "      <th>dps</th>\n",
       "    </tr>\n",
       "  </thead>\n",
       "  <tbody>\n",
       "    <tr>\n",
       "      <th>0</th>\n",
       "      <td>0</td>\n",
       "      <td>256</td>\n",
       "      <td>273</td>\n",
       "      <td>141</td>\n",
       "      <td>1043</td>\n",
       "      <td>4</td>\n",
       "      <td>825.350253</td>\n",
       "    </tr>\n",
       "    <tr>\n",
       "      <th>1</th>\n",
       "      <td>1</td>\n",
       "      <td>234</td>\n",
       "      <td>255</td>\n",
       "      <td>153</td>\n",
       "      <td>909</td>\n",
       "      <td>3</td>\n",
       "      <td>767.543301</td>\n",
       "    </tr>\n",
       "    <tr>\n",
       "      <th>2</th>\n",
       "      <td>2</td>\n",
       "      <td>212</td>\n",
       "      <td>154</td>\n",
       "      <td>134</td>\n",
       "      <td>955</td>\n",
       "      <td>10</td>\n",
       "      <td>749.616742</td>\n",
       "    </tr>\n",
       "    <tr>\n",
       "      <th>3</th>\n",
       "      <td>3</td>\n",
       "      <td>250</td>\n",
       "      <td>264</td>\n",
       "      <td>149</td>\n",
       "      <td>872</td>\n",
       "      <td>6</td>\n",
       "      <td>780.116114</td>\n",
       "    </tr>\n",
       "    <tr>\n",
       "      <th>4</th>\n",
       "      <td>4</td>\n",
       "      <td>233</td>\n",
       "      <td>272</td>\n",
       "      <td>112</td>\n",
       "      <td>883</td>\n",
       "      <td>3</td>\n",
       "      <td>753.625030</td>\n",
       "    </tr>\n",
       "  </tbody>\n",
       "</table>\n",
       "</div>"
      ],
      "text/plain": [
       "   id  intel  crit  hit    sp  haste         dps\n",
       "0   0    256   273  141  1043      4  825.350253\n",
       "1   1    234   255  153   909      3  767.543301\n",
       "2   2    212   154  134   955     10  749.616742\n",
       "3   3    250   264  149   872      6  780.116114\n",
       "4   4    233   272  112   883      3  753.625030"
      ]
     },
     "execution_count": 25,
     "metadata": {},
     "output_type": "execute_result"
    }
   ],
   "source": [
    "import pandas as pd\n",
    "dps_df = pd.read_csv(\"dps_generated.csv\")\n",
    "# base intel is 120, naked at level 70\n",
    "dps_df['intel'] = dps_df.intel - 120\n",
    "\n",
    "dps_df.head()"
   ]
  },
  {
   "cell_type": "code",
   "execution_count": 26,
   "metadata": {},
   "outputs": [
    {
     "data": {
      "application/vnd.jupyter.widget-view+json": {
       "model_id": "28d4c25079834c308a9ef995422b581e",
       "version_major": 2,
       "version_minor": 0
      },
      "text/plain": [
       "VBox(children=(Figure(axes=[Axis(scale=LinearScale()), Axis(orientation='vertical', scale=LinearScale())], fig…"
      ]
     },
     "metadata": {},
     "output_type": "display_data"
    }
   ],
   "source": [
    "import bqplot.pyplot as plt\n",
    "import numpy as np\n",
    "size = 100\n",
    "\n",
    "plt.figure(title='DPS per hit value')\n",
    "# plt.scatter(np.random.randn(size), np.random.randn(size), color=np.random.randn(size))\n",
    "# plt.show()\n",
    "plt.scatter(dps_df.intel, dps_df.dps)\n",
    "\n",
    "plt.show()"
   ]
  },
  {
   "cell_type": "code",
   "execution_count": 27,
   "metadata": {},
   "outputs": [
    {
     "name": "stdout",
     "output_type": "stream",
     "text": [
      "[[0.25343606 0.3479906  0.30276758 0.32347786]]\n"
     ]
    }
   ],
   "source": [
    "# Regression multi variable\n",
    "from sklearn import linear_model \n",
    "regr = linear_model.LinearRegression()\n",
    "regr.fit(dps_df[['intel', 'crit', 'hit', 'sp']], dps_df[['dps']])\n",
    "\n",
    "print(regr.coef_)\n"
   ]
  },
  {
   "cell_type": "code",
   "execution_count": null,
   "metadata": {},
   "outputs": [],
   "source": []
  }
 ],
 "metadata": {
  "kernelspec": {
   "display_name": "Python 3",
   "language": "python",
   "name": "python3"
  },
  "language_info": {
   "codemirror_mode": {
    "name": "ipython",
    "version": 3
   },
   "file_extension": ".py",
   "mimetype": "text/x-python",
   "name": "python",
   "nbconvert_exporter": "python",
   "pygments_lexer": "ipython3",
   "version": "3.8.5"
  }
 },
 "nbformat": 4,
 "nbformat_minor": 5
}
